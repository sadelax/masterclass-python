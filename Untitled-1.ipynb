{
 "cells": [
  {
   "cell_type": "code",
   "execution_count": 51,
   "metadata": {},
   "outputs": [],
   "source": [
    "PI = 3.141592"
   ]
  },
  {
   "cell_type": "code",
   "execution_count": 52,
   "metadata": {},
   "outputs": [
    {
     "data": {
      "text/plain": [
       "56.548656"
      ]
     },
     "execution_count": 52,
     "metadata": {},
     "output_type": "execute_result"
    }
   ],
   "source": [
    "2 * PI * 9"
   ]
  },
  {
   "cell_type": "markdown",
   "metadata": {},
   "source": [
    "## definir funciones en python:"
   ]
  },
  {
   "cell_type": "code",
   "execution_count": 53,
   "metadata": {},
   "outputs": [],
   "source": [
    "def perimeter(radius):\n",
    "    \"\"\"\n",
    "    calcula el perímetro de un círculo\n",
    "    \"\"\"\n",
    "    return 2 * PI * radius"
   ]
  },
  {
   "cell_type": "code",
   "execution_count": 54,
   "metadata": {},
   "outputs": [
    {
     "data": {
      "text/plain": [
       "<function __main__.perimeter(radius)>"
      ]
     },
     "execution_count": 54,
     "metadata": {},
     "output_type": "execute_result"
    }
   ],
   "source": [
    "perimeter"
   ]
  },
  {
   "cell_type": "code",
   "execution_count": 55,
   "metadata": {},
   "outputs": [],
   "source": [
    "def celsius_to_fahrenheit(celsius):\n",
    "    \"\"\"\n",
    "    converts celsius to fahrenheit\n",
    "    \"\"\"\n",
    "    f = (celsius * 9 / 5)\n",
    "    return f + 32"
   ]
  },
  {
   "cell_type": "code",
   "execution_count": 56,
   "metadata": {},
   "outputs": [
    {
     "data": {
      "text/plain": [
       "2.8284271247461903"
      ]
     },
     "execution_count": 56,
     "metadata": {},
     "output_type": "execute_result"
    }
   ],
   "source": [
    "import math\n",
    "\n",
    "def triangle_area(side1, side2, side3):\n",
    "    \"\"\"\n",
    "    Calcula el area usando el semi-perímetro\n",
    "    \"\"\"\n",
    "    sp = (side1 + side2 + side3) / 2\n",
    "    \n",
    "    return math.sqrt(sp * (sp - side1) * (sp - side2) * (sp - side3))\n",
    "\n",
    "triangle_area(3,2,3)"
   ]
  },
  {
   "cell_type": "code",
   "execution_count": 57,
   "metadata": {},
   "outputs": [
    {
     "ename": "ValueError",
     "evalue": "math domain error",
     "output_type": "error",
     "traceback": [
      "\u001b[0;31m---------------------------------------------------------------------------\u001b[0m",
      "\u001b[0;31mValueError\u001b[0m                                Traceback (most recent call last)",
      "Cell \u001b[0;32mIn[57], line 1\u001b[0m\n\u001b[0;32m----> 1\u001b[0m triangle_area(\u001b[39m2\u001b[39;49m,\u001b[39m1\u001b[39;49m,\u001b[39m9\u001b[39;49m)\n",
      "Cell \u001b[0;32mIn[56], line 9\u001b[0m, in \u001b[0;36mtriangle_area\u001b[0;34m(side1, side2, side3)\u001b[0m\n\u001b[1;32m      4\u001b[0m \u001b[39m\u001b[39m\u001b[39m\"\"\"\u001b[39;00m\n\u001b[1;32m      5\u001b[0m \u001b[39mCalcula el area usando el semi-perímetro\u001b[39;00m\n\u001b[1;32m      6\u001b[0m \u001b[39m\"\"\"\u001b[39;00m\n\u001b[1;32m      7\u001b[0m sp \u001b[39m=\u001b[39m (side1 \u001b[39m+\u001b[39m side2 \u001b[39m+\u001b[39m side3) \u001b[39m/\u001b[39m \u001b[39m2\u001b[39m\n\u001b[0;32m----> 9\u001b[0m \u001b[39mreturn\u001b[39;00m math\u001b[39m.\u001b[39;49msqrt(sp \u001b[39m*\u001b[39;49m (sp \u001b[39m-\u001b[39;49m side1) \u001b[39m*\u001b[39;49m (sp \u001b[39m-\u001b[39;49m side2) \u001b[39m*\u001b[39;49m (sp \u001b[39m-\u001b[39;49m side3))\n",
      "\u001b[0;31mValueError\u001b[0m: math domain error"
     ]
    }
   ],
   "source": [
    "triangle_area(2,1,9)"
   ]
  },
  {
   "cell_type": "code",
   "execution_count": null,
   "metadata": {},
   "outputs": [
    {
     "data": {
      "text/plain": [
       "-6.283184"
      ]
     },
     "execution_count": 22,
     "metadata": {},
     "output_type": "execute_result"
    }
   ],
   "source": [
    "perimeter(-1)"
   ]
  },
  {
   "cell_type": "code",
   "execution_count": null,
   "metadata": {},
   "outputs": [
    {
     "data": {
      "text/plain": [
       "list"
      ]
     },
     "execution_count": 27,
     "metadata": {},
     "output_type": "execute_result"
    }
   ],
   "source": [
    "type([3, \"hola\"])"
   ]
  },
  {
   "cell_type": "code",
   "execution_count": null,
   "metadata": {},
   "outputs": [
    {
     "data": {
      "text/plain": [
       "str"
      ]
     },
     "execution_count": 28,
     "metadata": {},
     "output_type": "execute_result"
    }
   ],
   "source": [
    "type(\"hola\")"
   ]
  },
  {
   "cell_type": "code",
   "execution_count": null,
   "metadata": {},
   "outputs": [],
   "source": [
    "def sum_all(numbers):\n",
    "    \"\"\"\n",
    "    reduce una lista de números a su total\n",
    "    \"\"\"\n",
    "    total = 0\n",
    "    for number in numbers:\n",
    "        total = total + number\n",
    "    return total"
   ]
  },
  {
   "cell_type": "code",
   "execution_count": null,
   "metadata": {},
   "outputs": [
    {
     "data": {
      "text/plain": [
       "3"
      ]
     },
     "execution_count": 39,
     "metadata": {},
     "output_type": "execute_result"
    }
   ],
   "source": [
    "sum_all([1,1,1])"
   ]
  },
  {
   "cell_type": "code",
   "execution_count": 63,
   "metadata": {},
   "outputs": [],
   "source": [
    "def product_all(numbers):\n",
    "    total = 1\n",
    "    for number in numbers:\n",
    "        total *= number\n",
    "    return total"
   ]
  },
  {
   "cell_type": "code",
   "execution_count": 64,
   "metadata": {},
   "outputs": [
    {
     "data": {
      "text/plain": [
       "1"
      ]
     },
     "execution_count": 64,
     "metadata": {},
     "output_type": "execute_result"
    }
   ],
   "source": [
    "product_all([1,1])"
   ]
  },
  {
   "cell_type": "markdown",
   "metadata": {},
   "source": [
    "Crea la función `sum_mult_of_3`:\n",
    "* Recibe una lista de números\n",
    "* Devuelve la suma de aquellos que son **múltiplos de 3**\n",
    "#### DIVIDE & VENCERÁS\n",
    "Resuelve primero el subproblema \"saber si un número es múltiplo de 3\", creando el predicado `is_multiple_3`. Recuerda el operador `%` para obtener el resto de una división"
   ]
  },
  {
   "cell_type": "code",
   "execution_count": 75,
   "metadata": {},
   "outputs": [
    {
     "name": "stdout",
     "output_type": "stream",
     "text": [
      "3 es múltiplo de 3\n",
      "6 es múltiplo de 3\n"
     ]
    }
   ],
   "source": [
    "def sum_mult_of_3(numbers):\n",
    "    for number in numbers:\n",
    "        if number % 3 == 0:\n",
    "            print(number, \"es múltiplo de 3\")\n",
    "\n",
    "sum_mult_of_3([1,2,3,4,5,6])"
   ]
  },
  {
   "cell_type": "markdown",
   "metadata": {},
   "source": [
    "Crea la función `count_str` que recibe una lista y devuelve el número de cadenas que hay en ella.\n",
    "Asegúrate de que funciona cuando:\n",
    "* solo hay cadenas\n",
    "* no hay ninguna cadena\n",
    "* la lista de entrada es la vacía\n",
    "1. ¿Se parece en algo a `sum_mult_of_3`?"
   ]
  },
  {
   "cell_type": "markdown",
   "metadata": {},
   "source": [
    "## (1)\n",
    "Crea la función `select_even` que recibe una lista de números y devuelve una lista con *sólo los números pares*, en el mismo orden.\n",
    "Es decir, si recibe la lista `[1,2,3,4, 5, 6]`, el valor correcto de retorno es `[2,4,6]`. No es correcto devolver `[4, 2, 6]`.\n",
    "* ¿Qué debe de devolver si no hay ningún numero par?\n",
    "* ¿Qué debe de devolver si recibe la lista vacía?\n",
    "## (2)\n",
    "Crea la función `select_strings` que recibe una lista y devuelve otra lista sólo con las cadenas que hubiese en la lista de entrada, en el mismo orden.\n",
    "## (3)\n",
    "Crea la función `select_bigger` que recibe *2 parámetros*:\n",
    "1. Un número\n",
    "2. Una lista de números\n",
    "devuelve una lista con aquellos que son mayores que el parámetro numérico.\n",
    "* Recuerda preservar el orden\n",
    "* ¿Qué devolverías si recibes una lista vacía?"
   ]
  },
  {
   "cell_type": "code",
   "execution_count": 74,
   "metadata": {},
   "outputs": [
    {
     "data": {
      "text/plain": [
       "2"
      ]
     },
     "execution_count": 74,
     "metadata": {},
     "output_type": "execute_result"
    }
   ],
   "source": [
    "def count_str(items):\n",
    "    count = 0\n",
    "    for item in items:\n",
    "        if type(item) == str:\n",
    "            count+=1\n",
    "    return count\n",
    "\n",
    "count_str([\"cristina\", \"laura\"])"
   ]
  },
  {
   "cell_type": "code",
   "execution_count": 90,
   "metadata": {},
   "outputs": [],
   "source": [
    "def select_even(numbers):\n",
    "    accum = []\n",
    "    if(numbers == None):\n",
    "        return\n",
    "    for number in numbers:\n",
    "        if(number != None):\n",
    "            if number % 2 == 0:\n",
    "                accum.append(number)\n",
    "        return accum\n",
    "\n",
    "select_even([1,2,3,4,4,0,-1, None])\n",
    "select_even([])\n",
    "select_even(None)"
   ]
  },
  {
   "cell_type": "code",
   "execution_count": 78,
   "metadata": {},
   "outputs": [
    {
     "data": {
      "text/plain": [
       "['hola', 'quetal']"
      ]
     },
     "execution_count": 78,
     "metadata": {},
     "output_type": "execute_result"
    }
   ],
   "source": [
    "def select_strings(items):\n",
    "    str_list = []\n",
    "    for item in items:\n",
    "        if type(item) == str:\n",
    "            str_list.append(item)\n",
    "    return str_list\n",
    "\n",
    "select_strings([\"hola\", 1, \"quetal\"])"
   ]
  },
  {
   "cell_type": "code",
   "execution_count": 92,
   "metadata": {},
   "outputs": [
    {
     "data": {
      "text/plain": [
       "[5, 6]"
      ]
     },
     "execution_count": 92,
     "metadata": {},
     "output_type": "execute_result"
    }
   ],
   "source": [
    "def select_bigger(limit, numbers):\n",
    "    more_than_the_limit_list = []\n",
    "    for number in numbers:\n",
    "        if limit < number:\n",
    "            more_than_the_limit_list.append(number)\n",
    "    return more_than_the_limit_list\n",
    "\n",
    "select_bigger(4, [1,2,3,4,5,6])\n"
   ]
  },
  {
   "cell_type": "markdown",
   "metadata": {},
   "source": [
    "## (3)\n",
    "Crea la función `make_inverses` que recibe una lista de números, y devuelve otra lista de igual longitud con los inversos de cada uno de los números de entrada. Respeta el orden.\n",
    "2:51\n",
    "## (4)\n",
    "Crea una función llamada `elevate` que recibe dos parámetros:\n",
    "* una lista de números\n",
    "* un número llamado exponent\n",
    "Devuelve una nueva lista, con el resultado de elevar cada uno de los elementos originales a exponent. Respeta el orden.\n",
    "2:51\n",
    "## (5)\n",
    "Crea la función `to_strings` que recibe una lista de números y devuelve una nueva lista que contiene esos números convertidos en cadenas: 3 --> \"3\".\n",
    "Para la conversión de `int` o `float` a `str` se usa el tipo de destino (en este caso `str`) y se le llama como si fuese una función. Por ejemplo: `str(8)`.\n",
    "## (7)\n",
    "Crea la función `round_list` que recibe una lista de números (enteros o decimales) y devuelve una lista de decimales redondeados a dos posiciones, sin contar los ceros redundantes.\n",
    "`[1.01, 8, 42.009]` --> `[1.01, 8.0, 42.01]`\n",
    "1. Averigua cómo funciona `round` de Python\n",
    "2. Aprovecha la función `to_floats`"
   ]
  },
  {
   "cell_type": "code",
   "execution_count": 96,
   "metadata": {},
   "outputs": [
    {
     "data": {
      "text/plain": [
       "[1.0, 0.5, 0.3333333333333333, 0.25, 0.2]"
      ]
     },
     "execution_count": 96,
     "metadata": {},
     "output_type": "execute_result"
    }
   ],
   "source": [
    "def make_inverses(numbers):\n",
    "    numbers_rev = []\n",
    "    for number in numbers:\n",
    "        numbers_rev.append(1/number)\n",
    "    return numbers_rev\n",
    "\n",
    "make_inverses([1,2,3,4,5])"
   ]
  },
  {
   "cell_type": "code",
   "execution_count": 100,
   "metadata": {},
   "outputs": [
    {
     "data": {
      "text/plain": [
       "[1.0, 4.0, 9.0, 16.0]"
      ]
     },
     "execution_count": 100,
     "metadata": {},
     "output_type": "execute_result"
    }
   ],
   "source": [
    "import math\n",
    "def elevate(numbers, exponent):\n",
    "    numbers_elev = []\n",
    "    for number in numbers:\n",
    "        numbers_elev.append(math.pow(number, exponent))\n",
    "    return numbers_elev\n",
    "    \n",
    "elevate([1,2,3,4], 2)"
   ]
  },
  {
   "cell_type": "code",
   "execution_count": 101,
   "metadata": {},
   "outputs": [
    {
     "data": {
      "text/plain": [
       "['1', '2', '3', '4']"
      ]
     },
     "execution_count": 101,
     "metadata": {},
     "output_type": "execute_result"
    }
   ],
   "source": [
    "def to_strings(numbers):\n",
    "    strings = []\n",
    "    for number in numbers:\n",
    "        strings.append(str(number))\n",
    "    return strings\n",
    "\n",
    "to_strings([1,2,3,4])"
   ]
  },
  {
   "cell_type": "code",
   "execution_count": 112,
   "metadata": {},
   "outputs": [
    {
     "data": {
      "text/plain": [
       "[1.0, 2.0, 3.0, 4.26]"
      ]
     },
     "execution_count": 112,
     "metadata": {},
     "output_type": "execute_result"
    }
   ],
   "source": [
    "def round_list(numbers):\n",
    "    numbers_rounded = []\n",
    "    for number in numbers:\n",
    "        numbers_rounded.append(round(float(number), 2))\n",
    "    return numbers_rounded\n",
    "\n",
    "round_list([1,2,3,4.2555])"
   ]
  },
  {
   "cell_type": "markdown",
   "metadata": {},
   "source": [
    "```\n",
    "def compress(elements):\n",
    "\n",
    "    # Acumulador con valor inicial\n",
    "    accum = <initial>\n",
    "\n",
    "    # iteramos\n",
    "    for element in elements:\n",
    "        # combinamos. La operación de combinación\n",
    "        # puede incluir un predicado que seleccione\n",
    "        # o no el valor actual para la combinación\n",
    "        accum = <combine>(element, accum)\n",
    "\n",
    "    # Tenemos en accum el valor comprimido\n",
    "    return accum\n",
    "```\n",
    "Usala para obtener:\n",
    "el sumatorio de todos los elementos\n",
    "el producto de todos\n",
    "el promedio de todos\n"
   ]
  },
  {
   "cell_type": "code",
   "execution_count": null,
   "metadata": {},
   "outputs": [],
   "source": [
    "def compress(elements, initial, combine):\n",
    "\n",
    "    accum = initial\n",
    "\n",
    "    for element in elements:\n",
    "        accum = combine(element, accum)\n",
    "    return accum\n",
    "\n",
    "compress([1,2,3,4], 0, lambda a, b : a + b)\n",
    "compress([1,2,3,4], 1, lambda a, b : a * b)"
   ]
  },
  {
   "cell_type": "markdown",
   "metadata": {},
   "source": [
    "\n",
    "##### (0) Transformar\n",
    "Usando una expresión lambda, el transformador universal y la siguiente lista\n",
    "nums = [-1, -4, 1,2,3,4,5,6,7,8,9,-51, 36, 1832, 449]\n",
    "1. Crea la lista con los cuadrados\n",
    "2. Crea la lista con los valores absolutos\n",
    "3. Crea la lista con los cubos\n",
    "##### (1) Selección\n",
    "Usando la misma lista y el *selector universal*, crea:\n",
    "Primero implementa la función select.\n",
    "1. La lista de los números negativos\n",
    "2. La lista de los positivos\n",
    "3. La lista de los pares\n",
    "##### (2) ¿Qué hace esta función?\n",
    "```Python\n",
    "def mistery(elements:list) -> float:\n",
    "    tmp = transform(elements, lambda x : x + 2)\n",
    "    tmp = select(tmp, lambda x : (x % 2) == 0)\n",
    "    tmp = compress(tmp, 1, lambda accum, x : accum * x)\n",
    "    return tmp\n",
    "\n"
   ]
  },
  {
   "cell_type": "code",
   "execution_count": 14,
   "metadata": {},
   "outputs": [
    {
     "name": "stdout",
     "output_type": "stream",
     "text": [
      "[1, 4, 9, 16, 25, 36, 1, 484]\n",
      "[1, 2, 3, 4, 5, 6, 1, 22]\n",
      "[1, 8, 27, 64, 125, 216, -1, -10648]\n"
     ]
    }
   ],
   "source": [
    "def transform(elements:list, function)-> list:\n",
    "    result = []\n",
    "    for element in elements:\n",
    "            result.append(function(element))\n",
    "    return result\n",
    "\n",
    "numbers = [1,2,3,4,5,6, -1, -22]\n",
    "print(transform(numbers, lambda a : a**2))\n",
    "print(transform(numbers, lambda a : abs(a)))\n",
    "print(transform(numbers, lambda a : a**3))\n"
   ]
  },
  {
   "cell_type": "code",
   "execution_count": 18,
   "metadata": {},
   "outputs": [
    {
     "name": "stdout",
     "output_type": "stream",
     "text": [
      "[-1, -22]\n",
      "[1, 2, 3, 4, 5, 6]\n",
      "[2, 4, 6, -22]\n"
     ]
    }
   ],
   "source": [
    "def select(elements:list, predicate)-> list:\n",
    "    selected = []\n",
    "    for element in elements:\n",
    "        if predicate(element):\n",
    "            selected.append(element)\n",
    "    return selected\n",
    "\n",
    "numbers = [1,2,3,4,5,6, -1, -22]\n",
    "print(select(numbers, lambda a : a < 0))\n",
    "print(select(numbers, lambda a : a > 0))\n",
    "print(select(numbers, lambda a : a % 2 == 0))"
   ]
  },
  {
   "cell_type": "code",
   "execution_count": 19,
   "metadata": {},
   "outputs": [],
   "source": [
    "def mistery(elements:list) -> float:\n",
    "    tmp = transform(elements, lambda x : x + 2)\n",
    "    tmp = select(tmp, lambda x : (x % 2) == 0)\n",
    "    tmp = compress(tmp, 1, lambda accum, x : accum * x)\n",
    "    return tmp"
   ]
  },
  {
   "cell_type": "code",
   "execution_count": null,
   "metadata": {},
   "outputs": [],
   "source": [
    "num = int | float\n",
    "\n",
    "def succ(n: num)->num:\n",
    "    return n+1"
   ]
  },
  {
   "cell_type": "code",
   "execution_count": 20,
   "metadata": {},
   "outputs": [
    {
     "data": {
      "text/plain": [
       "9"
      ]
     },
     "execution_count": 20,
     "metadata": {},
     "output_type": "execute_result"
    }
   ],
   "source": [
    "def add1(n):\n",
    "    return n + 1\n",
    "\n",
    "def adder(sumando):\n",
    "    def _add(n):\n",
    "        return sumando + n\n",
    "    return _add\n",
    "\n",
    "adder(8)"
   ]
  }
 ],
 "metadata": {
  "kernelspec": {
   "display_name": "Python 3",
   "language": "python",
   "name": "python3"
  },
  "language_info": {
   "codemirror_mode": {
    "name": "ipython",
    "version": 3
   },
   "file_extension": ".py",
   "mimetype": "text/x-python",
   "name": "python",
   "nbconvert_exporter": "python",
   "pygments_lexer": "ipython3",
   "version": "3.9.6"
  },
  "orig_nbformat": 4
 },
 "nbformat": 4,
 "nbformat_minor": 2
}
